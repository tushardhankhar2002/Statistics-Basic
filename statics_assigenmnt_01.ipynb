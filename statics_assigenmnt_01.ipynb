{
  "nbformat": 4,
  "nbformat_minor": 0,
  "metadata": {
    "colab": {
      "provenance": []
    },
    "kernelspec": {
      "name": "python3",
      "display_name": "Python 3"
    },
    "language_info": {
      "name": "python"
    }
  },
  "cells": [
    {
      "cell_type": "markdown",
      "source": [
        "#statitics basis assignment"
      ],
      "metadata": {
        "id": "72f2xQwntXsC"
      }
    },
    {
      "cell_type": "markdown",
      "source": [
        "##theory questons"
      ],
      "metadata": {
        "id": "BlPhYDpvtixm"
      }
    },
    {
      "cell_type": "markdown",
      "source": [
        "Q1-What is statistics, and why is it important?"
      ],
      "metadata": {
        "id": "HO1fJ2v1toGo"
      }
    },
    {
      "cell_type": "markdown",
      "source": [
        "A1-Statistics is the science of collecting, analyzing, interpreting, and presenting data. It's important because it helps us understand the world around us, make informed decisions, and draw conclusions from data. Statistics provides a way to quantify and analyze information, making it possible to identify trends, patterns, and relationships within data sets."
      ],
      "metadata": {
        "id": "xu-5olUMtu38"
      }
    },
    {
      "cell_type": "markdown",
      "source": [
        "Q2- What are the two main types of statistics?"
      ],
      "metadata": {
        "id": "-RskoEsYuGet"
      }
    },
    {
      "cell_type": "markdown",
      "source": [
        "A2- The two main types of statistics are descriptive statistics and inferential statistics. Descriptive statistics focuses on summarizing and describing data using measures like mean, median, and mode, while inferential statistics uses sample data to make predictions or draw conclusions about a larger population."
      ],
      "metadata": {
        "id": "RnnovvcAuNEy"
      }
    },
    {
      "cell_type": "markdown",
      "source": [
        "Q3- What are descriptive statistics?"
      ],
      "metadata": {
        "id": "mawU_9JOum2I"
      }
    },
    {
      "cell_type": "markdown",
      "source": [
        "A3- Descriptive statistics is one of the approaches for realizing descriptive analytics. It is a collection of tools that quantitatively describes the data in summary and graphical forms. Such tools compute measures of central tendency and dispersion. Mean, median, and mode are commonly used measures of central tendency."
      ],
      "metadata": {
        "id": "v-HYisR3uwGD"
      }
    },
    {
      "cell_type": "markdown",
      "source": [
        "Q4- What is inferential statistics?"
      ],
      "metadata": {
        "id": "G5EWe3bau4Py"
      }
    },
    {
      "cell_type": "markdown",
      "source": [
        "A4- Inferential statistics is a branch of statistics that allows us to make predictions or generalizations about a larger population based on data collected from a sample.\n",
        "\n",
        "Instead of studying every member of a population (which is often impossible), inferential statistics helps us draw conclusions from a smaller group and estimate how likely it is that those conclusions apply to everyone."
      ],
      "metadata": {
        "id": "aQx6Wk81u-b_"
      }
    },
    {
      "cell_type": "markdown",
      "source": [
        "Q5- 5 What is sampling in statistics?"
      ],
      "metadata": {
        "id": "UlzT_lfFvJ_s"
      }
    },
    {
      "cell_type": "markdown",
      "source": [
        "A5- Sampling in statistics is the process of selecting a small group (called a sample) from a larger group (called a population) in order to study and make conclusions about the whole population.\n",
        "\n",
        "Since it’s often difficult or impossible to collect data from every member of a population, we take a sample that represents the population as accurately as possible.\n",
        "\n"
      ],
      "metadata": {
        "id": "EQduoBTyvRvV"
      }
    },
    {
      "cell_type": "markdown",
      "source": [
        "Q6- 5 What are the different types of sampling methods?"
      ],
      "metadata": {
        "id": "YcHl7CfqvhB4"
      }
    },
    {
      "cell_type": "markdown",
      "source": [
        "A6- Sampling methods are broadly categorized into probability sampling and non-probability sampling. Probability sampling includes techniques like simple random sampling, systematic sampling, stratified sampling, and cluster sampling, where each member of the population has a known chance of being selected. Non-probability sampling methods, on the other hand, rely on non-random selection and include convenience sampling, quota sampling, purposive sampling, and snowball sampling.\n"
      ],
      "metadata": {
        "id": "pU2gNag8vnx2"
      }
    },
    {
      "cell_type": "markdown",
      "source": [
        "Q7- What is the difference between random and non-random sampling?"
      ],
      "metadata": {
        "id": "mljRnfc6v5zd"
      }
    },
    {
      "cell_type": "markdown",
      "source": [
        "A7- Random sampling is a method where every element in the population has an equal chance of being selected for the sample. Non-random sampling, on the other hand, involves selecting elements based on factors other than random chance, often due to convenience, judgment, or specific criteria. This difference leads to key distinctions in representation, bias, and generalizability"
      ],
      "metadata": {
        "id": "xB1rA5FnwCDS"
      }
    },
    {
      "cell_type": "markdown",
      "source": [
        "Q8- Define and give examples of qualitative and quantitative data ?"
      ],
      "metadata": {
        "id": "w5xFhPMgwQt8"
      }
    },
    {
      "cell_type": "markdown",
      "source": [
        "A8- Qualitative data describes qualities or characteristics and is non-numerical, while quantitative data is numerical and represents counts or measures. Examples of qualitative data include color, taste, or feelings, while examples of quantitative data include age, height, or weight."
      ],
      "metadata": {
        "id": "q59tulN4wl-c"
      }
    },
    {
      "cell_type": "markdown",
      "source": [
        "Q9-  What are the different types of data in statistics?"
      ],
      "metadata": {
        "id": "sxwlu55nw07Z"
      }
    },
    {
      "cell_type": "markdown",
      "source": [
        "A9- In statistics, data is broadly categorized into two main types: qualitative (or categorical) and quantitative (or numerical). Qualitative data describes attributes or characteristics, while quantitative data involves numerical values. These main types can be further subdivided into specific subcategories."
      ],
      "metadata": {
        "id": "EE-8SEz_w9JA"
      }
    },
    {
      "cell_type": "markdown",
      "source": [
        "Q10- Explain nominal, ordinal, interval, and ratio levels of measurement5"
      ],
      "metadata": {
        "id": "eVRp3RL8xLqk"
      }
    },
    {
      "cell_type": "markdown",
      "source": [
        "A10- 4 Levels of Measurement: Nominal, Ordinal, Interval & RatioIn data analysis, levels of measurement describe the type of information a variable holds. The four main levels are nominal, ordinal, interval, and ratio. Nominal data is categorical and unordered, like colors or names. Ordinal data is ordered but the difference between categories might not be equal, such as rankings in a competition. Interval data has equal intervals between values but no true zero point, like temperature in Celsius. Ratio data has equal intervals and a true zero point, allowing for ratios to be calculated, like height or weight."
      ],
      "metadata": {
        "id": "inJbUVNlxTzy"
      }
    },
    {
      "cell_type": "markdown",
      "source": [
        "Q11- What is the measure of central tendency?"
      ],
      "metadata": {
        "id": "wy9DHolExl0L"
      }
    },
    {
      "cell_type": "markdown",
      "source": [
        "A11- Measures of central tendency provide a single value that represents the \"middle\" or typical value within a dataset. The three most common measures are the mean, median, and mode"
      ],
      "metadata": {
        "id": "y6fvJZI7xvJw"
      }
    },
    {
      "cell_type": "markdown",
      "source": [
        "Q12- Define mean, median, and mode?"
      ],
      "metadata": {
        "id": "YXhScQihx9p5"
      }
    },
    {
      "cell_type": "markdown",
      "source": [
        "A12- In statistics, the mean is the average of a dataset, calculated by summing all the values and dividing by the total number of values. The median is the middle value in a dataset when it's ordered from smallest to largest. The mode is the value that appears most frequently in a dataset."
      ],
      "metadata": {
        "id": "aIqCJHi8yGcc"
      }
    },
    {
      "cell_type": "markdown",
      "source": [
        "Q13- 5 What is the significance of the measure of central tendency?"
      ],
      "metadata": {
        "id": "CsiWOwZZyT9l"
      }
    },
    {
      "cell_type": "markdown",
      "source": [
        "A13- Measures of central tendency, like mean, median, and mode, are crucial because they provide a single, representative value that summarizes the center or typical value of a dataset, making it easier to understand and compare different sets of data. They help condense large datasets into a more manageable and meaningful form, allowing for easier interpretation and analysi"
      ],
      "metadata": {
        "id": "MEj5kbmhyd4P"
      }
    },
    {
      "cell_type": "markdown",
      "source": [
        "Q14- What is variance, and how is it calculated?"
      ],
      "metadata": {
        "id": "dKJsZyK4yu_D"
      }
    },
    {
      "cell_type": "markdown",
      "source": [
        "A14- Variance | GeeksforGeeksVariance is a statistical measure that quantifies the spread or dispersion of a set of data points around their mean. It's calculated by finding the average of the squared differences between each data point and the mean. The more spread out the data, the higher the variance"
      ],
      "metadata": {
        "id": "U5x-vWLzy58u"
      }
    },
    {
      "cell_type": "markdown",
      "source": [
        "Q15- What is standard deviation, and why is it important?"
      ],
      "metadata": {
        "id": "BwG6JNfTzI3v"
      }
    },
    {
      "cell_type": "markdown",
      "source": [
        "A15- Standard deviation is a statistical measure that indicates the amount of variation or dispersion in a dataset. It quantifies how much individual data points deviate from the mean (average). A high standard deviation means data points are widely spread, while a low standard deviation indicates data points are clustered closely around the mean."
      ],
      "metadata": {
        "id": "1WJ9A0tazQZP"
      }
    },
    {
      "cell_type": "markdown",
      "source": [
        "Q16-  Define and explain the term range in statistics?"
      ],
      "metadata": {
        "id": "fR5HcwvQzZrZ"
      }
    },
    {
      "cell_type": "markdown",
      "source": [
        "A16- Range - Math Definition, How to Find & ExamplesIn statistics, the range is a measure of variability that represents the spread of a dataset. It's calculated by finding the difference between the highest and lowest values in the data set."
      ],
      "metadata": {
        "id": "L-2UxR5dzl2b"
      }
    },
    {
      "cell_type": "markdown",
      "source": [
        "Q17- What is the difference between variance and standard deviation?"
      ],
      "metadata": {
        "id": "sBDm4CaYzxa8"
      }
    },
    {
      "cell_type": "markdown",
      "source": [
        "A17- Variance and standard deviation are both measures of data dispersion, but they differ in how they are expressed. Variance is the average of the squared differences from the mean, while standard deviation is the square root of the variance. Essentially, standard deviation is a more intuitive measure because it is in the same units as the original data, whereas variance is in squared units"
      ],
      "metadata": {
        "id": "WC-xa8cmz4EF"
      }
    },
    {
      "cell_type": "markdown",
      "source": [
        "Q18- What is skewness in a dataset?"
      ],
      "metadata": {
        "id": "oav2fKyC0H2w"
      }
    },
    {
      "cell_type": "markdown",
      "source": [
        "A18- Skewness in data refers to the degree of asymmetry in a probability distribution. It indicates whether the data is more concentrated on one side of the mean compared to the other. A positively skewed distribution has a longer tail on the right side, while a negatively skewed distribution has a longer tail on the left side."
      ],
      "metadata": {
        "id": "zNgabsao0TSL"
      }
    },
    {
      "cell_type": "markdown",
      "source": [
        "Q19-  What does it mean if a dataset is positively or negatively skewed?"
      ],
      "metadata": {
        "id": "-Wqh-nma0ebW"
      }
    },
    {
      "cell_type": "markdown",
      "source": [
        "A19-A positively skewed dataset has a longer tail on the right side, meaning more data points are clustered towards the lower end with a few higher values pulling the mean towards the right. A negatively skewed dataset, on the other hand, has a longer tail on the left side, with most data points clustered towards the higher end and a few lower values pulling the mean towards the left."
      ],
      "metadata": {
        "id": "jljuzY3M0koA"
      }
    },
    {
      "cell_type": "markdown",
      "source": [
        "Q20- Define and explain kurtosis?"
      ],
      "metadata": {
        "id": "UTIscRo30vG8"
      }
    },
    {
      "cell_type": "markdown",
      "source": [
        "A20- Kurtosis is a descriptive statistic used to help measure how data disperse between a distribution's center and tails, with larger values indicating a data distribution may have “heavy” tails that are thickly concentrated with observations or that are long with extreme observations."
      ],
      "metadata": {
        "id": "0wSwMfSH03h5"
      }
    },
    {
      "cell_type": "markdown",
      "source": [
        "Q21- What is the purpose of covariance?"
      ],
      "metadata": {
        "id": "LbmqPsN_1Alx"
      }
    },
    {
      "cell_type": "markdown",
      "source": [
        "A21- Covariance measures the relationship between two variables, indicating whether they tend to move in the same or opposite directions."
      ],
      "metadata": {
        "id": "yK_8l7ZH1NSL"
      }
    },
    {
      "cell_type": "markdown",
      "source": [
        "Q22- What does correlation measure in statistics?"
      ],
      "metadata": {
        "id": "hcHvqfrw1XyD"
      }
    },
    {
      "cell_type": "markdown",
      "source": [
        "A22- In statistics, correlation measures the strength and direction of the relationship between two variables. It's a measure of how much two variables change together. Correlation doesn't imply causation, it only describes the association between variables."
      ],
      "metadata": {
        "id": "0GREBW8f1eQ3"
      }
    },
    {
      "cell_type": "markdown",
      "source": [
        "Q23- What is the difference between covariance and correlation?"
      ],
      "metadata": {
        "id": "8t5cAJ8R1tQn"
      }
    },
    {
      "cell_type": "markdown",
      "source": [
        "A23- Covariance and correlation are both statistical measures that describe the relationship between two variables, but they differ in how they are measured and interpreted. Covariance measures the direction and magnitude of the relationship, while correlation measures the strength and direction of the relationship, but also standardizes it"
      ],
      "metadata": {
        "id": "BC1qRhXa1yvC"
      }
    },
    {
      "cell_type": "markdown",
      "source": [
        "Q24-  What are some real-world applications of statistics?"
      ],
      "metadata": {
        "id": "BS9nnvfR2Ad0"
      }
    },
    {
      "cell_type": "markdown",
      "source": [
        "A24- Statistics is widely used in various real-world applications, including healthcare, finance, business, education, and even daily life. It helps analyze data, make informed decisions, and understand patterns in various fields."
      ],
      "metadata": {
        "id": "U27N4IJQ2HIu"
      }
    },
    {
      "cell_type": "markdown",
      "source": [
        "##PRACTICAL QUESTIONS"
      ],
      "metadata": {
        "id": "egot2j452QoR"
      }
    },
    {
      "cell_type": "code",
      "source": [
        "#1-How do you calculate the mean, median, and mode of a dataset\n",
        "#MEAN(average)\n",
        "import numpy as np\n",
        "\n",
        "data = [1, 2, 3, 4, 5]\n",
        "mean = np.mean(data)\n",
        "print(f\"The mean is: {mean}\")"
      ],
      "metadata": {
        "colab": {
          "base_uri": "https://localhost:8080/"
        },
        "id": "RvAHu3xH2UUy",
        "outputId": "49b2a191-2fce-42bb-9529-58669ac2501c"
      },
      "execution_count": null,
      "outputs": [
        {
          "output_type": "stream",
          "name": "stdout",
          "text": [
            "The mean is: 3.0\n"
          ]
        }
      ]
    },
    {
      "cell_type": "code",
      "source": [
        "#MEDIAN\n",
        "import numpy as np\n",
        "\n",
        "data = [1, 2, 3, 4, 5]\n",
        "median = np.median(data)\n",
        "print(f\"The median is: {median}\")\n",
        "\n",
        "data = [1, 2, 3, 4]\n",
        "median = np.median(data)\n",
        "print(f\"The median is: {median}\")"
      ],
      "metadata": {
        "colab": {
          "base_uri": "https://localhost:8080/"
        },
        "id": "pir4rDtK2ylq",
        "outputId": "a2da0892-9594-4d43-85c4-7c65c2b2bf16"
      },
      "execution_count": null,
      "outputs": [
        {
          "output_type": "stream",
          "name": "stdout",
          "text": [
            "The median is: 3.0\n",
            "The median is: 2.5\n"
          ]
        }
      ]
    },
    {
      "cell_type": "code",
      "source": [
        "#MODE\n",
        "from scipy import stats\n",
        "\n",
        "data = [1, 2, 2, 3, 3, 3, 4, 5]\n",
        "mode = stats.mode(data)\n",
        "print(f\"The mode is: {mode}\")"
      ],
      "metadata": {
        "colab": {
          "base_uri": "https://localhost:8080/"
        },
        "id": "Y8-DteZZ3GjR",
        "outputId": "b0620edf-0951-4278-997e-a14b6f2dcd05"
      },
      "execution_count": null,
      "outputs": [
        {
          "output_type": "stream",
          "name": "stdout",
          "text": [
            "The mode is: ModeResult(mode=np.int64(3), count=np.int64(3))\n"
          ]
        }
      ]
    },
    {
      "cell_type": "code",
      "source": [
        "#2- Write a Python program to compute the variance and standard deviation of a dataset\n",
        "import math\n",
        "\n",
        "def calculate_mean(data):\n",
        "    \"\"\"Calculates the mean of a list of numbers.\"\"\"\n",
        "    return sum(data) / len(data)\n",
        "\n",
        "def calculate_variance(data, mean):\n",
        "  \"\"\"Calculates the variance of a list of numbers.\"\"\"\n",
        "  return sum([(x - mean)**2 for x in data]) / (len(data) - 1)\n",
        "\n",
        "def calculate_std_dev(variance):\n",
        "    \"\"\"Calculates the standard deviation from the variance.\"\"\"\n",
        "    return math.sqrt(variance)\n",
        "\n",
        "if __name__ == \"__main__\":\n",
        "    dataset = [10, 12, 23, 23, 16, 23, 21, 16]\n",
        "\n",
        "    mean = calculate_mean(dataset)\n",
        "    variance = calculate_variance(dataset, mean)\n",
        "    std_dev = calculate_std_dev(variance)\n",
        "\n",
        "    print(f\"Dataset: {dataset}\")\n",
        "    print(f\"Mean: {mean}\")\n",
        "    print(f\"Variance: {variance}\")\n",
        "    print(f\"Standard Deviation: {std_dev}\")"
      ],
      "metadata": {
        "colab": {
          "base_uri": "https://localhost:8080/"
        },
        "id": "iPa3LajS3QgX",
        "outputId": "1dd83a71-cc25-4c51-cbb7-38cf2e2aed18"
      },
      "execution_count": null,
      "outputs": [
        {
          "output_type": "stream",
          "name": "stdout",
          "text": [
            "Dataset: [10, 12, 23, 23, 16, 23, 21, 16]\n",
            "Mean: 18.0\n",
            "Variance: 27.428571428571427\n",
            "Standard Deviation: 5.237229365663817\n"
          ]
        }
      ]
    },
    {
      "cell_type": "code",
      "source": [
        "#3-Create a dataset and classify it into nominal, ordinal, interval, and ratio types?\n",
        "import pandas as pd\n",
        "\n",
        "# Sample data\n",
        "data = {\n",
        "    'Name': ['SHINY', 'YASH', 'SHUBHAM', 'BHARAT'],\n",
        "    'Gender': ['Female', 'Male', 'Male', 'Male'],\n",
        "    'Age': [25, 30, 22, 28],\n",
        "    'Education': ['High School', 'Bachelor', 'Master', 'PhD'],\n",
        "    'Income': [50000, 75000, 60000, 85000],\n",
        "    'Satisfaction': ['Very Satisfied', 'Satisfied', 'Neutral', 'Dissatisfied'],\n",
        "    'Temperature': [25.5, 30.2, 22.8, 27.9]\n",
        "}\n",
        "\n",
        "# Create a Pandas DataFrame\n",
        "df = pd.DataFrame(data)\n",
        "print(df)"
      ],
      "metadata": {
        "colab": {
          "base_uri": "https://localhost:8080/"
        },
        "id": "hBiGaoCn3o8Z",
        "outputId": "fdca8a84-9fd1-4b83-e6b8-a4b981c74662"
      },
      "execution_count": null,
      "outputs": [
        {
          "output_type": "stream",
          "name": "stdout",
          "text": [
            "      Name  Gender  Age    Education  Income    Satisfaction  Temperature\n",
            "0    SHINY  Female   25  High School   50000  Very Satisfied         25.5\n",
            "1     YASH    Male   30     Bachelor   75000       Satisfied         30.2\n",
            "2  SHUBHAM    Male   22       Master   60000         Neutral         22.8\n",
            "3   BHARAT    Male   28          PhD   85000    Dissatisfied         27.9\n"
          ]
        }
      ]
    },
    {
      "cell_type": "code",
      "source": [
        "# Classify data types\n",
        "print(\"\\nData Type Classification:\")\n",
        "print(\"----------------------------\")\n",
        "\n",
        "# Nominal\n",
        "print(\"Nominal:\")\n",
        "print(df['Name'].dtype)\n",
        "print(df['Gender'].dtype)\n",
        "print(\"----------------------------\")\n",
        "\n",
        "# Ordinal\n",
        "print(\"Ordinal:\")\n",
        "print(df['Education'].dtype)\n",
        "print(df['Satisfaction'].dtype)\n",
        "print(\"----------------------------\")\n",
        "\n",
        "# Interval\n",
        "print(\"Interval:\")\n",
        "print(df['Temperature'].dtype)\n",
        "print(\"----------------------------\")\n",
        "\n",
        "# Ratio\n",
        "print(\"Ratio:\")\n",
        "print(df['Age'].dtype)\n",
        "print(df['Income'].dtype)\n",
        "print(\"----------------------------\")"
      ],
      "metadata": {
        "colab": {
          "base_uri": "https://localhost:8080/"
        },
        "id": "Y5XDbdIS4Ow-",
        "outputId": "7bd29479-c3ba-450a-f7a2-0ddf7862fd42"
      },
      "execution_count": null,
      "outputs": [
        {
          "output_type": "stream",
          "name": "stdout",
          "text": [
            "\n",
            "Data Type Classification:\n",
            "----------------------------\n",
            "Nominal:\n",
            "object\n",
            "object\n",
            "----------------------------\n",
            "Ordinal:\n",
            "object\n",
            "object\n",
            "----------------------------\n",
            "Interval:\n",
            "float64\n",
            "----------------------------\n",
            "Ratio:\n",
            "int64\n",
            "int64\n",
            "----------------------------\n"
          ]
        }
      ]
    },
    {
      "cell_type": "code",
      "source": [
        "#4- Implement sampling techniques like random sampling and stratified sampling?\n",
        "import pandas as pd\n",
        "import numpy as np\n",
        "import random\n",
        "\n",
        "# Sample Data (Replace with your actual data)\n",
        "data = {'Feature1': np.random.rand(100),\n",
        "        'Feature2': np.random.rand(100),\n",
        "        'Category': np.random.choice(['A', 'B', 'C'], size=100)}\n",
        "df = pd.DataFrame(data)\n",
        "\n",
        "# 1. Simple Random Sampling\n",
        "def simple_random_sampling(df, sample_size):\n",
        "    return df.sample(n=sample_size, random_state=42) #Using random_state for reproducibility\n",
        "\n",
        "# 2. Stratified Sampling\n",
        "def stratified_sampling(df, strata_column, sample_size):\n",
        "    # Calculate sample size per strata\n",
        "    group_sizes = df[strata_column].value_counts()\n",
        "    sample_size_per_group = {}\n",
        "    total_sample_size = 0\n",
        "    for group in group_sizes.index:\n",
        "        sample_size_per_group[group] = int((group_sizes[group] / df.shape[0]) * sample_size)\n",
        "        total_sample_size += sample_size_per_group[group]\n",
        "    if total_sample_size < sample_size: # Adjust if the total samples size is less than desired\n",
        "        remainder = sample_size - total_sample_size\n",
        "        for group in group_sizes.index:\n",
        "            if remainder > 0:\n",
        "                sample_size_per_group[group] += 1\n",
        "                remainder -= 1\n",
        "\n",
        "    #Sample each strata\n",
        "    stratified_sample = pd.DataFrame()\n",
        "    for group in group_sizes.index:\n",
        "        stratified_sample = pd.concat([stratified_sample, df[df[strata_column] == group].sample(n=sample_size_per_group[group], random_state=42)])\n",
        "    return stratified_sample\n",
        "\n",
        "# Example Usage:\n",
        "sample_size = 25\n",
        "random_sample = simple_random_sampling(df, sample_size)\n",
        "stratified_sample = stratified_sampling(df, 'Category', sample_size)\n",
        "\n",
        "print(\"Random Sample:\")\n",
        "print(random_sample)\n",
        "\n",
        "print(\"\\nStratified Sample:\")\n",
        "print(stratified_sample)"
      ],
      "metadata": {
        "colab": {
          "base_uri": "https://localhost:8080/"
        },
        "id": "YOF4vvbC4dTy",
        "outputId": "de6860a7-4646-497d-ee02-6b28182ee473"
      },
      "execution_count": null,
      "outputs": [
        {
          "output_type": "stream",
          "name": "stdout",
          "text": [
            "Random Sample:\n",
            "    Feature1  Feature2 Category\n",
            "83  0.336292  0.580583        B\n",
            "53  0.458588  0.195383        A\n",
            "70  0.224536  0.417506        A\n",
            "45  0.329030  0.321936        A\n",
            "44  0.535715  0.865217        B\n",
            "39  0.085712  0.784412        B\n",
            "22  0.050254  0.225507        C\n",
            "80  0.711665  0.100328        B\n",
            "10  0.531767  0.226451        C\n",
            "0   0.349249  0.352065        A\n",
            "18  0.144033  0.981753        B\n",
            "30  0.769135  0.899375        C\n",
            "73  0.610623  0.474456        A\n",
            "33  0.726582  0.814607        A\n",
            "90  0.093690  0.602614        C\n",
            "4   0.586964  0.198027        A\n",
            "76  0.900790  0.691970        B\n",
            "77  0.276321  0.563878        C\n",
            "12  0.963465  0.814728        A\n",
            "31  0.201628  0.772236        C\n",
            "55  0.002795  0.565649        A\n",
            "88  0.771644  0.775753        B\n",
            "26  0.876510  0.627512        C\n",
            "42  0.331587  0.126698        C\n",
            "69  0.922379  0.210570        B\n",
            "\n",
            "Stratified Sample:\n",
            "    Feature1  Feature2 Category\n",
            "62  0.263321  0.279410        A\n",
            "35  0.926112  0.740304        A\n",
            "23  0.133586  0.272807        A\n",
            "63  0.034231  0.924460        A\n",
            "12  0.963465  0.814728        A\n",
            "95  0.172314  0.035340        A\n",
            "54  0.723715  0.048016        A\n",
            "67  0.906767  0.708084        A\n",
            "70  0.224536  0.417506        A\n",
            "20  0.976626  0.615583        A\n",
            "64  0.949879  0.301557        A\n",
            "82  0.922108  0.773540        C\n",
            "38  0.655251  0.928682        C\n",
            "71  0.730359  0.837480        C\n",
            "46  0.341590  0.022542        C\n",
            "24  0.546426  0.637788        C\n",
            "26  0.876510  0.627512        C\n",
            "90  0.093690  0.602614        C\n",
            "74  0.095165  0.730616        C\n",
            "39  0.085712  0.784412        B\n",
            "60  0.660997  0.902536        B\n",
            "40  0.282274  0.380056        B\n",
            "83  0.336292  0.580583        B\n",
            "1   0.351667  0.994625        B\n",
            "43  0.173732  0.699770        B\n"
          ]
        }
      ]
    },
    {
      "cell_type": "code",
      "source": [
        "#5- Write a Python function to calculate the range of a dataset\n",
        "def calculate_range(data):\n",
        "    \"\"\"\n",
        "    Calculates the range of a dataset.\n",
        "\n",
        "    Args:\n",
        "        data: A list or tuple of numerical values.\n",
        "\n",
        "    Returns:\n",
        "        The range of the dataset, which is the difference between the maximum and minimum values.\n",
        "        Returns None if the input data is empty or not a list/tuple.\n",
        "    \"\"\"\n",
        "    if not isinstance(data, (list, tuple)) or not data:\n",
        "        return None\n",
        "\n",
        "    return max(data) - min(data)"
      ],
      "metadata": {
        "id": "GfkMbNzT4_db"
      },
      "execution_count": null,
      "outputs": []
    },
    {
      "cell_type": "code",
      "source": [
        "data = [10, 2, 5, 8, 1, 9]\n",
        "range_value = calculate_range(data)\n",
        "print(f\"The range of the dataset is: {range_value}\")"
      ],
      "metadata": {
        "colab": {
          "base_uri": "https://localhost:8080/"
        },
        "id": "un10_-ZA5PqH",
        "outputId": "70c14a74-2813-4d68-a23d-726aa65e467b"
      },
      "execution_count": null,
      "outputs": [
        {
          "output_type": "stream",
          "name": "stdout",
          "text": [
            "The range of the dataset is: 9\n"
          ]
        }
      ]
    },
    {
      "cell_type": "code",
      "source": [
        "#6- Create a dataset and plot its histogram to visualize skewness\n",
        "import numpy as np\n",
        "import matplotlib.pyplot as plt\n",
        "\n",
        "# 1. Create a skewed dataset\n",
        "#   This dataset will have a long tail to the right, indicating positive skewness\n",
        "data = np.concatenate([np.random.normal(0, 1, 50), np.random.exponential(scale=2, size=50)])\n",
        "\n",
        "# 2. Plot a histogram\n",
        "plt.hist(data, bins=20, alpha=0.75) # Use 'bins' to control the number of bars in the histogram\n",
        "\n",
        "# Add labels and title\n",
        "plt.xlabel(\"Value\")\n",
        "plt.ylabel(\"Frequency\")\n",
        "plt.title(\"Histogram of Skewed Data\")\n",
        "\n",
        "# Display the plot\n",
        "plt.show()"
      ],
      "metadata": {
        "colab": {
          "base_uri": "https://localhost:8080/",
          "height": 472
        },
        "id": "j4rb2Ex45Xog",
        "outputId": "cd33e087-5430-40b2-dfd2-9f5149a5d738"
      },
      "execution_count": null,
      "outputs": [
        {
          "output_type": "display_data",
          "data": {
            "text/plain": [
              "<Figure size 640x480 with 1 Axes>"
            ],
            "image/png": "[encoded data removed]"
          },
          "metadata": {}
        }
      ]
    },
    {
      "cell_type": "code",
      "source": [
        "#7- Calculate skewness and kurtosis of a dataset using Python libraries.\n",
        "import pandas as pd\n",
        "from scipy.stats import skew, kurtosis\n",
        "\n",
        "# Sample dataset\n",
        "data = {'col1': [1, 2, 3, 4, 5],\n",
        "        'col2': [1, 3, 3, 7, 1, ],\n",
        "        'col3': [10, 20, 30, 40, 50]}\n",
        "\n",
        "df = pd.DataFrame(data)\n",
        "\n",
        "# Calculate skewness for each column\n",
        "skewness_values = df.skew()\n",
        "print(\"Skewness:\\n\", skewness_values)\n",
        "\n",
        "# Calculate kurtosis for each column\n",
        "kurtosis_values = df.kurt()\n",
        "print(\"\\nKurtosis:\\n\", kurtosis_values)"
      ],
      "metadata": {
        "colab": {
          "base_uri": "https://localhost:8080/"
        },
        "id": "vXNPpPBi5wVZ",
        "outputId": "06b61be9-939a-4b26-b923-26f0976bc0e3"
      },
      "execution_count": null,
      "outputs": [
        {
          "output_type": "stream",
          "name": "stdout",
          "text": [
            "Skewness:\n",
            " col1    0.000000\n",
            "col2    1.360828\n",
            "col3    0.000000\n",
            "dtype: float64\n",
            "\n",
            "Kurtosis:\n",
            " col1   -1.2\n",
            "col2    2.0\n",
            "col3   -1.2\n",
            "dtype: float64\n"
          ]
        }
      ]
    },
    {
      "cell_type": "code",
      "source": [
        "#8-Generate a dataset and demonstrate positive and negative skewness.\n",
        "import matplotlib.pyplot as plt\n",
        "from scipy.stats import skew\n",
        "\n",
        "positive_skewed = [2, 3, 3, 4, 5, 6, 7, 20]\n",
        "negative_skewed = [1, 25, 26, 27, 28, 29, 30, 31]\n",
        "\n",
        "# Plotting\n",
        "fig, axs = plt.subplots(1, 2, figsize=(12, 5))\n",
        "\n",
        "# Positive Skew\n",
        "axs[0].hist(positive_skewed, bins=8, color='skyblue', edgecolor='black')\n",
        "axs[0].set_title(f'Positive Skew\\nSkewness = {skew(positive_skewed):.2f}')\n",
        "\n",
        "# Negative Skew\n",
        "axs[1].hist(negative_skewed, bins=8, color='salmon', edgecolor='black')\n",
        "axs[1].set_title(f'Negative Skew\\nSkewness = {skew(negative_skewed):.2f}')\n",
        "\n",
        "plt.tight_layout()\n",
        "plt.show()\n"
      ],
      "metadata": {
        "colab": {
          "base_uri": "https://localhost:8080/",
          "height": 506
        },
        "id": "T10hu6xW6B74",
        "outputId": "022b7190-2cd1-4bb6-b356-2da0a3e88dd1"
      },
      "execution_count": null,
      "outputs": [
        {
          "output_type": "display_data",
          "data": {
            "text/plain": [
              "<Figure size 1200x500 with 2 Axes>"
            ],
            "image/png": "[encoded data removed]"
          },
          "metadata": {}
        }
      ]
    },
    {
      "cell_type": "code",
      "source": [
        "#9-  Write a Python script to calculate covariance between two datasets\n",
        "# Method 1: Manual Calculation\n",
        "def calculate_covariance(x, y):\n",
        "    if len(x) != len(y):\n",
        "        raise ValueError(\"Datasets must be of the same length\")\n",
        "\n",
        "    n = len(x)\n",
        "    mean_x = sum(x) / n\n",
        "    mean_y = sum(y) / n\n",
        "\n",
        "    covariance = sum((x[i] - mean_x) * (y[i] - mean_y) for i in range(n)) / (n - 1)\n",
        "    return covariance\n",
        "\n",
        "# Method 2: Using NumPy\n",
        "import numpy as np\n",
        "\n",
        "# Example datasets\n",
        "x = [2, 4, 6, 8, 10]\n",
        "y = [1, 3, 5, 7, 9]\n",
        "\n",
        "# Manual method\n",
        "manual_cov = calculate_covariance(x, y)\n",
        "print(f\"Covariance (manual calculation): {manual_cov:.2f}\")\n",
        "\n",
        "# NumPy method\n",
        "numpy_cov = np.cov(x, y, ddof=1)[0][1]\n",
        "print(f\"Covariance (NumPy): {numpy_cov:.2f}\")\n"
      ],
      "metadata": {
        "colab": {
          "base_uri": "https://localhost:8080/"
        },
        "id": "Ex2MZ9ea6lKr",
        "outputId": "0388c683-3750-48c2-fcad-e0b122d84b5c"
      },
      "execution_count": null,
      "outputs": [
        {
          "output_type": "stream",
          "name": "stdout",
          "text": [
            "Covariance (manual calculation): 10.00\n",
            "Covariance (NumPy): 10.00\n"
          ]
        }
      ]
    },
    {
      "cell_type": "code",
      "source": [
        "#10- Write a Python script to calculate the correlation coefficient between two datasets\n",
        "# Method 1: Manual Calculation\n",
        "import math\n",
        "\n",
        "def calculate_correlation(x, y):\n",
        "    if len(x) != len(y):\n",
        "        raise ValueError(\"Datasets must be of the same length\")\n",
        "\n",
        "    n = len(x)\n",
        "    mean_x = sum(x) / n\n",
        "    mean_y = sum(y) / n\n",
        "\n",
        "    covariance = sum((x[i] - mean_x) * (y[i] - mean_y) for i in range(n)) / (n - 1)\n",
        "    std_x = math.sqrt(sum((x[i] - mean_x)**2 for i in range(n)) / (n - 1))\n",
        "    std_y = math.sqrt(sum((y[i] - mean_y)**2 for i in range(n)) / (n - 1))\n",
        "\n",
        "    correlation = covariance / (std_x * std_y)\n",
        "    return correlation\n",
        "\n",
        "# Method 2: Using NumPy\n",
        "import numpy as np\n",
        "\n",
        "# Example datasets\n",
        "x = [2, 4, 6, 8, 10]\n",
        "y = [1, 3, 5, 7, 9]\n",
        "\n",
        "# Manual method\n",
        "manual_corr = calculate_correlation(x, y)\n",
        "print(f\"Correlation Coefficient (manual calculation): {manual_corr:.2f}\")\n",
        "\n",
        "# NumPy method\n",
        "numpy_corr = np.corrcoef(x, y)[0][1]\n",
        "print(f\"Correlation Coefficient (NumPy): {numpy_corr:.2f}\")\n"
      ],
      "metadata": {
        "colab": {
          "base_uri": "https://localhost:8080/"
        },
        "id": "_GCAwlmD68Bx",
        "outputId": "78195ba5-e334-4eea-d7d1-fc67a33985cb"
      },
      "execution_count": null,
      "outputs": [
        {
          "output_type": "stream",
          "name": "stdout",
          "text": [
            "Correlation Coefficient (manual calculation): 1.00\n",
            "Correlation Coefficient (NumPy): 1.00\n"
          ]
        }
      ]
    },
    {
      "cell_type": "code",
      "source": [
        "#11- Create a scatter plot to visualize the relationship between two variables\n",
        "import matplotlib.pyplot as plt\n",
        "\n",
        "# Example datasets (you can replace these with your own data)\n",
        "x = [2, 4, 6, 8, 10]\n",
        "y = [1, 3, 5, 7, 9]\n",
        "\n",
        "# Create scatter plot\n",
        "plt.figure(figsize=(8, 6))\n",
        "plt.scatter(x, y, color='blue', label='Data points')\n",
        "\n",
        "# Add title and labels\n",
        "plt.title('Scatter Plot of X vs Y', fontsize=14)\n",
        "plt.xlabel('X Variable', fontsize=12)\n",
        "plt.ylabel('Y Variable', fontsize=12)\n",
        "\n",
        "# Add grid for better readability\n",
        "plt.grid(True)\n",
        "\n",
        "# Show the plot\n",
        "plt.legend()\n",
        "plt.show()\n"
      ],
      "metadata": {
        "colab": {
          "base_uri": "https://localhost:8080/",
          "height": 569
        },
        "id": "LE2S5CLE7KNP",
        "outputId": "428a7dec-1f8c-4d5d-855b-d30a7dba468f"
      },
      "execution_count": null,
      "outputs": [
        {
          "output_type": "display_data",
          "data": {
            "text/plain": [
              "<Figure size 800x600 with 1 Axes>"
            ],
            "image/png": "[encoded data removed]"
          },
          "metadata": {}
        }
      ]
    },
    {
      "cell_type": "code",
      "source": [
        "#12- Implement and compare simple random sampling and systematic sampling.\n",
        "import numpy as np\n",
        "import pandas as pd\n",
        "import matplotlib.pyplot as plt\n",
        "\n",
        "# Create a population dataset (example: heights of 1000 people)\n",
        "np.random.seed(42)\n",
        "population = np.random.normal(loc=170, scale=10, size=1000)  # mean height 170cm, std 10cm\n",
        "\n",
        "def simple_random_sample(population, sample_size):\n",
        "    \"\"\"Implement simple random sampling without replacement\"\"\"\n",
        "    indices = np.random.choice(len(population), size=sample_size, replace=False)\n",
        "    return population[indices]\n",
        "\n",
        "# Take a sample of 100\n",
        "srs_sample = simple_random_sample(population, 100)\n"
      ],
      "metadata": {
        "id": "7g5SyOuK7qkS"
      },
      "execution_count": null,
      "outputs": []
    },
    {
      "cell_type": "code",
      "source": [
        "def systematic_sample(population, sample_size):\n",
        "    \"\"\"Implement systematic sampling\"\"\"\n",
        "    step = len(population) // sample_size\n",
        "    start = np.random.randint(0, step)\n",
        "    indices = np.arange(start, len(population), step)[:sample_size]\n",
        "    return population[indices]\n",
        "\n",
        "# Take a sample of 100\n",
        "sys_sample = systematic_sample(population, 100)"
      ],
      "metadata": {
        "id": "ZkJ06zDr8AtC"
      },
      "execution_count": null,
      "outputs": []
    },
    {
      "cell_type": "code",
      "source": [
        "plt.figure(figsize=(12, 6))\n",
        "\n",
        "plt.subplot(1, 3, 1)\n",
        "plt.hist(population, bins=20, color='blue', alpha=0.7)\n",
        "plt.title(\"Population Distribution\")\n",
        "\n",
        "plt.subplot(1, 3, 2)\n",
        "plt.hist(srs_sample, bins=20, color='green', alpha=0.7)\n",
        "plt.title(\"Simple Random Sample\")\n",
        "\n",
        "plt.subplot(1, 3, 3)\n",
        "plt.hist(sys_sample, bins=20, color='red', alpha=0.7)\n",
        "plt.title(\"Systematic Sample\")\n",
        "\n",
        "plt.tight_layout()\n",
        "plt.show()"
      ],
      "metadata": {
        "colab": {
          "base_uri": "https://localhost:8080/",
          "height": 607
        },
        "id": "QBYZniGp98Ch",
        "outputId": "a3945293-9fac-4107-952c-a6632cc6784a"
      },
      "execution_count": null,
      "outputs": [
        {
          "output_type": "display_data",
          "data": {
            "text/plain": [
              "<Figure size 1200x600 with 3 Axes>"
            ],
            "image/png": "[encoded data removed]"
          },
          "metadata": {}
        }
      ]
    },
    {
      "cell_type": "code",
      "source": [
        "#13- Calculate the mean, median, and mode of grouped data.\n",
        "# Install numpy if not already installed\n",
        "import numpy as np\n",
        "\n",
        "# Example grouped data\n",
        "# Edit these as needed\n",
        "class_intervals = [(0, 10), (10, 20), (20, 30), (30, 40), (40, 50)]\n",
        "frequencies = [5, 8, 15, 16, 6]\n",
        "\n",
        "# Step 1: Calculate class midpoints\n",
        "midpoints = [(low + high) / 2 for (low, high) in class_intervals]\n",
        "\n",
        "# Step 2: Mean calculation\n",
        "fx = [f * x for f, x in zip(frequencies, midpoints)]\n",
        "mean = sum(fx) / sum(frequencies)\n",
        "\n",
        "# Step 3: Median calculation\n",
        "cumulative_frequencies = np.cumsum(frequencies)\n",
        "N = sum(frequencies)\n",
        "median_class_index = next(i for i, cf in enumerate(cumulative_frequencies) if cf >= N/2)\n",
        "\n",
        "L = class_intervals[median_class_index][0]\n",
        "F = cumulative_frequencies[median_class_index - 1] if median_class_index > 0 else 0\n",
        "f_m = frequencies[median_class_index]\n",
        "h = class_intervals[0][1] - class_intervals[0][0]  # assuming equal width\n",
        "\n",
        "median = L + ((N / 2 - F) / f_m) * h\n",
        "\n",
        "# Step 4: Mode calculation\n",
        "modal_class_index = frequencies.index(max(frequencies))\n",
        "L_modal = class_intervals[modal_class_index][0]\n",
        "f1 = frequencies[modal_class_index]\n",
        "f0 = frequencies[modal_class_index - 1] if modal_class_index > 0 else 0\n",
        "f2 = frequencies[modal_class_index + 1] if modal_class_index < len(frequencies) - 1 else 0\n",
        "\n",
        "mode = L_modal + ((f1 - f0) / (2 * f1 - f0 - f2)) * h if (2 * f1 - f0 - f2) != 0 else None\n",
        "\n",
        "# Display the results\n",
        "print(f\"Mean: {mean}\")\n",
        "print(f\"Median: {median}\")\n",
        "print(f\"Mode: {mode if mode is not None else 'Cannot compute (division by zero)'}\")\n"
      ],
      "metadata": {
        "colab": {
          "base_uri": "https://localhost:8080/"
        },
        "id": "VRwIlVor9_KV",
        "outputId": "6c536409-64da-4535-8597-f7c5f904e39d"
      },
      "execution_count": null,
      "outputs": [
        {
          "output_type": "stream",
          "name": "stdout",
          "text": [
            "Mean: 27.0\n",
            "Median: 28.0\n",
            "Mode: 30.90909090909091\n"
          ]
        }
      ]
    },
    {
      "cell_type": "code",
      "source": [
        "#14- Simulate data using Python and calculate its central tendency and dispersion.\n",
        "def calculate_central_tendency(data):\n",
        "    \"\"\"Calculate measures of central tendency\"\"\"\n",
        "    return {\n",
        "        'Mean': np.mean(data),\n",
        "        'Median': np.median(data),\n",
        "        'Mode': stats.mode(data, keepdims=True)[0][0]  # Returns smallest mode if multimodal\n",
        "    }\n",
        "\n",
        "# Calculate for each dataset\n",
        "central_tendencies = {}\n",
        "for col in df.columns:\n",
        "    central_tendencies[col] = calculate_central_tendency(df[col])\n",
        "\n",
        "# Convert to DataFrame for nice display\n",
        "central_df = pd.DataFrame(central_tendencies)\n",
        "print(\"Measures of Central Tendency:\")\n",
        "print(central_df)"
      ],
      "metadata": {
        "colab": {
          "base_uri": "https://localhost:8080/"
        },
        "id": "4zQvVp36-4Ye",
        "outputId": "ca422a9a-e15b-4a20-cf41-35020bdd63b0"
      },
      "execution_count": null,
      "outputs": [
        {
          "output_type": "stream",
          "name": "stdout",
          "text": [
            "Measures of Central Tendency:\n",
            "        col1  col2  col3\n",
            "Mean     3.0   3.0  30.0\n",
            "Median   3.0   3.0  30.0\n",
            "Mode     1.0   1.0  10.0\n"
          ]
        }
      ]
    },
    {
      "cell_type": "code",
      "source": [
        "def calculate_dispersion(data):\n",
        "    \"\"\"Calculate measures of dispersion\"\"\"\n",
        "    return {\n",
        "        'Variance': np.var(data, ddof=1),  # Sample variance\n",
        "        'Standard Deviation': np.std(data, ddof=1),\n",
        "        'Range': np.ptp(data),  # Peak-to-peak (max - min)\n",
        "        'IQR': stats.iqr(data),  # Interquartile range (Q3 - Q1)\n",
        "        'MAD': stats.median_abs_deviation(data)  # Median Absolute Deviation\n",
        "    }\n",
        "\n",
        "# Calculate for each dataset\n",
        "dispersions = {}\n",
        "for col in df.columns:\n",
        "    dispersions[col] = calculate_dispersion(df[col])\n",
        "\n",
        "# Convert to DataFrame for nice display\n",
        "dispersion_df = pd.DataFrame(dispersions)\n",
        "print(\"\\nMeasures of Dispersion:\")\n",
        "print(dispersion_df)"
      ],
      "metadata": {
        "colab": {
          "base_uri": "https://localhost:8080/"
        },
        "id": "imY2eJc4_YPq",
        "outputId": "f814843b-b5a5-4ee0-e873-48323b6c2f2f"
      },
      "execution_count": null,
      "outputs": [
        {
          "output_type": "stream",
          "name": "stdout",
          "text": [
            "\n",
            "Measures of Dispersion:\n",
            "                        col1     col2        col3\n",
            "Variance            2.500000  6.00000  250.000000\n",
            "Standard Deviation  1.581139  2.44949   15.811388\n",
            "Range               4.000000  6.00000   40.000000\n",
            "IQR                 2.000000  2.00000   20.000000\n",
            "MAD                 1.000000  2.00000   10.000000\n"
          ]
        }
      ]
    },
    {
      "cell_type": "code",
      "source": [
        "#15- Use NumPy or pandas to summarize a dataset’s descriptive statistics\n",
        "import numpy as np\n",
        "\n",
        "# Example dataset\n",
        "age = np.array([25, 30, 35, 40, 28])\n",
        "salary = np.array([50000, 60000, 75000, 80000, 58000])\n",
        "\n",
        "# Summary statistics\n",
        "print(\"Age stats:\")\n",
        "print(f\"Mean: {np.mean(age)}\")\n",
        "print(f\"Std: {np.std(age)}\")\n",
        "print(f\"Min: {np.min(age)}\")\n",
        "print(f\"Max: {np.max(age)}\")\n",
        "print()\n",
        "\n",
        "print(\"Salary stats:\")\n",
        "print(f\"Mean: {np.mean(salary)}\")\n",
        "print(f\"Std: {np.std(salary)}\")\n",
        "print(f\"Min: {np.min(salary)}\")\n",
        "print(f\"Max: {np.max(salary)}\")\n"
      ],
      "metadata": {
        "colab": {
          "base_uri": "https://localhost:8080/"
        },
        "id": "RkmRfsei_eE3",
        "outputId": "5b03bb96-6511-40b6-d496-b9b29d5e81e7"
      },
      "execution_count": null,
      "outputs": [
        {
          "output_type": "stream",
          "name": "stdout",
          "text": [
            "Age stats:\n",
            "Mean: 31.6\n",
            "Std: 5.314132102234569\n",
            "Min: 25\n",
            "Max: 40\n",
            "\n",
            "Salary stats:\n",
            "Mean: 64600.0\n",
            "Std: 11164.22858956229\n",
            "Min: 50000\n",
            "Max: 80000\n"
          ]
        }
      ]
    },
    {
      "cell_type": "code",
      "source": [
        "#16- Plot a boxplot to understand the spread and identify outliers\n",
        "import pandas as pd\n",
        "import matplotlib.pyplot as plt\n",
        "\n",
        "# Sample dataset\n",
        "data = {\n",
        "    'Age': [25, 30, 35, 40, 28, 100],     # Added 100 to show an outlier\n",
        "    'Salary': [50000, 60000, 75000, 80000, 58000, 150000]  # Outlier in salary\n",
        "}\n",
        "\n",
        "df = pd.DataFrame(data)\n",
        "\n",
        "# Create boxplots\n",
        "df.boxplot(column=['Age', 'Salary'])\n",
        "plt.title(\"Boxplot of Age and Salary\")\n",
        "plt.ylabel(\"Values\")\n",
        "plt.show()\n"
      ],
      "metadata": {
        "colab": {
          "base_uri": "https://localhost:8080/",
          "height": 452
        },
        "id": "4l4xqfZ__56p",
        "outputId": "85ee54ad-e0a2-4f49-fdab-20bcee4fb9fc"
      },
      "execution_count": null,
      "outputs": [
        {
          "output_type": "display_data",
          "data": {
            "text/plain": [
              "<Figure size 640x480 with 1 Axes>"
            ],
            "image/png": "[encoded data removed]"
          },
          "metadata": {}
        }
      ]
    },
    {
      "cell_type": "code",
      "source": [
        "#17- Calculate the interquartile range (IQR) of a dataset\n",
        "import pandas as pd\n",
        "\n",
        "# Example data\n",
        "df = pd.DataFrame({\n",
        "    'Age': [25, 30, 35, 40, 28, 100]\n",
        "})\n",
        "\n",
        "# Calculate IQR\n",
        "Q1 = df['Age'].quantile(0.25)\n",
        "Q3 = df['Age'].quantile(0.75)\n",
        "IQR = Q3 - Q1\n",
        "\n",
        "print(f\"IQR (Age): {IQR}\")\n",
        "\n"
      ],
      "metadata": {
        "colab": {
          "base_uri": "https://localhost:8080/"
        },
        "id": "xSaQ-BNwAYqg",
        "outputId": "702ea54f-51eb-4e90-c248-bd089e953124"
      },
      "execution_count": null,
      "outputs": [
        {
          "output_type": "stream",
          "name": "stdout",
          "text": [
            "IQR (Age): 10.25\n"
          ]
        }
      ]
    },
    {
      "cell_type": "code",
      "source": [
        "#18-  Implement Z-score normalization and explain its significance\n",
        "import pandas as pd\n",
        "\n",
        "# Sample data\n",
        "df = pd.DataFrame({\n",
        "    'Age': [25, 30, 35, 40, 28, 100]\n",
        "})\n",
        "\n",
        "# Z-score normalization\n",
        "df['Age_zscore'] = (df['Age'] - df['Age'].mean()) / df['Age'].std()\n",
        "\n",
        "print(df)\n"
      ],
      "metadata": {
        "colab": {
          "base_uri": "https://localhost:8080/"
        },
        "id": "gE4VXTg6AnqL",
        "outputId": "6993b0e5-f054-411a-d2ce-3686678fa6e4"
      },
      "execution_count": null,
      "outputs": [
        {
          "output_type": "stream",
          "name": "stdout",
          "text": [
            "   Age  Age_zscore\n",
            "0   25   -0.633238\n",
            "1   30   -0.457338\n",
            "2   35   -0.281439\n",
            "3   40   -0.105540\n",
            "4   28   -0.527698\n",
            "5  100    2.005253\n"
          ]
        }
      ]
    },
    {
      "cell_type": "code",
      "source": [
        "#19- Compare two datasets using their standard deviations\n",
        "import numpy as np\n",
        "import matplotlib.pyplot as plt"
      ],
      "metadata": {
        "id": "PhFS7KT0A0Q6"
      },
      "execution_count": null,
      "outputs": []
    },
    {
      "cell_type": "code",
      "source": [
        "# Dataset 1: Lower spread (smaller SD)\n",
        "data1 = np.array([72, 75, 78, 70, 74, 76, 77, 71, 73, 75])\n",
        "\n",
        "# Dataset 2: Higher spread (larger SD)\n",
        "data2 = np.array([60, 85, 90, 65, 55, 95, 70, 80, 75, 50])"
      ],
      "metadata": {
        "id": "WePRfjOmA_Zb"
      },
      "execution_count": null,
      "outputs": []
    },
    {
      "cell_type": "code",
      "source": [
        "mean1, mean2 = np.mean(data1), np.mean(data2)\n",
        "std1, std2 = np.std(data1, ddof=1), np.std(data2, ddof=1)  # ddof=1 for sample SD\n",
        "\n",
        "print(f\"Dataset 1 - Mean: {mean1:.2f}, SD: {std1:.2f}\")\n",
        "print(f\"Dataset 2 - Mean: {mean2:.2f}, SD: {std2:.2f}\")"
      ],
      "metadata": {
        "colab": {
          "base_uri": "https://localhost:8080/"
        },
        "id": "ZbfsPZy5BmqI",
        "outputId": "7a828a00-daf8-45dd-8275-faff87545881"
      },
      "execution_count": null,
      "outputs": [
        {
          "output_type": "stream",
          "name": "stdout",
          "text": [
            "Dataset 1 - Mean: 74.10, SD: 2.60\n",
            "Dataset 2 - Mean: 72.50, SD: 15.14\n"
          ]
        }
      ]
    },
    {
      "cell_type": "code",
      "source": [
        "#20- Write a Python program to visualize covariance using a heatmap\n",
        "import pandas as pd\n",
        "import seaborn as sns\n",
        "import matplotlib.pyplot as plt\n",
        "\n",
        "# Sample dataset\n",
        "data = {\n",
        "    'Age': [25, 30, 35, 40, 28],\n",
        "    'Salary': [50000, 60000, 75000, 80000, 58000],\n",
        "    'Years_of_Experience': [1, 5, 10, 15, 3]\n",
        "}\n",
        "\n",
        "# Create DataFrame\n",
        "df = pd.DataFrame(data)\n",
        "\n",
        "# Calculate covariance matrix\n",
        "cov_matrix = df.cov()\n",
        "\n",
        "# Plot heatmap of the covariance matrix\n",
        "plt.figure(figsize=(8, 6))\n",
        "sns.heatmap(cov_matrix, annot=True, cmap='coolwarm', fmt='.2f', linewidths=0.5)\n",
        "plt.title('Covariance Matrix Heatmap')\n",
        "plt.show()\n"
      ],
      "metadata": {
        "colab": {
          "base_uri": "https://localhost:8080/",
          "height": 545
        },
        "id": "p0cN6kQSBqPj",
        "outputId": "d2fdcc87-5951-4a87-f728-c6f7f5de0eac"
      },
      "execution_count": null,
      "outputs": [
        {
          "output_type": "display_data",
          "data": {
            "text/plain": [
              "<Figure size 800x600 with 2 Axes>"
            ],
            "image/png": "[encoded data removed]"
          },
          "metadata": {}
        }
      ]
    },
    {
      "cell_type": "code",
      "source": [
        "#21-  Use seaborn to create a correlation matrix for a dataset.\n",
        "import pandas as pd\n",
        "import seaborn as sns\n",
        "import matplotlib.pyplot as plt\n",
        "\n",
        "# Sample dataset\n",
        "data = {\n",
        "    'Age': [25, 30, 35, 40, 28],\n",
        "    'Salary': [50000, 60000, 75000, 80000, 58000],\n",
        "    'Years_of_Experience': [1, 5, 10, 15, 3]\n",
        "}\n",
        "\n",
        "# Create DataFrame\n",
        "df = pd.DataFrame(data)\n",
        "\n",
        "# Calculate the correlation matrix\n",
        "correlation_matrix = df.corr()\n",
        "\n",
        "# Plot the heatmap of the correlation matrix\n",
        "plt.figure(figsize=(8, 6))\n",
        "sns.heatmap(correlation_matrix, annot=True, cmap='coolwarm', fmt='.2f', linewidths=0.5, vmin=-1, vmax=1)\n",
        "plt.title('Correlation Matrix Heatmap')\n",
        "plt.show()\n"
      ],
      "metadata": {
        "colab": {
          "base_uri": "https://localhost:8080/",
          "height": 545
        },
        "id": "-LhRSrvkB_jl",
        "outputId": "a210380f-0c5e-4ece-be9a-ed565318ba36"
      },
      "execution_count": null,
      "outputs": [
        {
          "output_type": "display_data",
          "data": {
            "text/plain": [
              "<Figure size 800x600 with 2 Axes>"
            ],
            "image/png": "[encoded data removed]"
          },
          "metadata": {}
        }
      ]
    },
    {
      "cell_type": "code",
      "source": [
        "#22-  Generate a dataset and implement both variance and standard deviation computations\n",
        "import numpy as np\n",
        "import matplotlib.pyplot as plt\n",
        "\n",
        "# Set seed for reproducibility\n",
        "np.random.seed(42)\n",
        "\n",
        "# Generate 100 data points ~ N(mean=50, sd=10)\n",
        "data = np.random.normal(loc=50, scale=10, size=100)\n",
        "\n",
        "# Print first 5 values\n",
        "print(\"First 5 data points:\", data[:5])\n"
      ],
      "metadata": {
        "colab": {
          "base_uri": "https://localhost:8080/"
        },
        "id": "WOGpST-rCMeL",
        "outputId": "357366ed-16d9-4a35-b205-cfebcb705f5e"
      },
      "execution_count": null,
      "outputs": [
        {
          "output_type": "stream",
          "name": "stdout",
          "text": [
            "First 5 data points: [54.96714153 48.61735699 56.47688538 65.23029856 47.65846625]\n"
          ]
        }
      ]
    },
    {
      "cell_type": "code",
      "source": [
        "mean = np.mean(data)\n",
        "print(f\"Mean: {mean:.2f}\")"
      ],
      "metadata": {
        "colab": {
          "base_uri": "https://localhost:8080/"
        },
        "id": "HHvgRUIkCtIR",
        "outputId": "2cdf5564-d231-4877-ed53-cf1321a9ab25"
      },
      "execution_count": null,
      "outputs": [
        {
          "output_type": "stream",
          "name": "stdout",
          "text": [
            "Mean: 48.96\n"
          ]
        }
      ]
    },
    {
      "cell_type": "code",
      "source": [
        "pop_variance = np.var(data, ddof=0)  # ddof=0 for population\n",
        "print(f\"Population Variance: {pop_variance:.2f}\")"
      ],
      "metadata": {
        "colab": {
          "base_uri": "https://localhost:8080/"
        },
        "id": "f5Coejp9C4h1",
        "outputId": "3389e06a-5570-42e8-c9e7-a7d4471c1da1"
      },
      "execution_count": null,
      "outputs": [
        {
          "output_type": "stream",
          "name": "stdout",
          "text": [
            "Population Variance: 81.65\n"
          ]
        }
      ]
    },
    {
      "cell_type": "code",
      "source": [
        "sample_variance = np.var(data, ddof=1)  # ddof=1 for sample\n",
        "print(f\"Sample Variance: {sample_variance:.2f}\")"
      ],
      "metadata": {
        "colab": {
          "base_uri": "https://localhost:8080/"
        },
        "id": "UfrjEl68C9Bi",
        "outputId": "6002cf2b-2f4a-4faf-b2ac-bc47dc2955fa"
      },
      "execution_count": null,
      "outputs": [
        {
          "output_type": "stream",
          "name": "stdout",
          "text": [
            "Sample Variance: 82.48\n"
          ]
        }
      ]
    },
    {
      "cell_type": "code",
      "source": [
        "pop_std = np.std(data, ddof=0)\n",
        "print(f\"Population SD: {pop_std:.2f}\")"
      ],
      "metadata": {
        "colab": {
          "base_uri": "https://localhost:8080/"
        },
        "id": "JSBuanOGDAp9",
        "outputId": "c138e5da-afd5-4864-d976-9dc5cc71f84f"
      },
      "execution_count": null,
      "outputs": [
        {
          "output_type": "stream",
          "name": "stdout",
          "text": [
            "Population SD: 9.04\n"
          ]
        }
      ]
    },
    {
      "cell_type": "code",
      "source": [
        "pop_std = np.std(data, ddof=0)\n",
        "print(f\"Population SD: {pop_std:.2f}\")"
      ],
      "metadata": {
        "colab": {
          "base_uri": "https://localhost:8080/"
        },
        "id": "ZWxRDKwnDFsa",
        "outputId": "e7dd6895-174c-4bd2-801e-7b27d0063683"
      },
      "execution_count": null,
      "outputs": [
        {
          "output_type": "stream",
          "name": "stdout",
          "text": [
            "Population SD: 9.04\n"
          ]
        }
      ]
    },
    {
      "cell_type": "code",
      "source": [
        "#23- Visualize skewness and kurtosis using Python libraries like matplotlib or seaborn\n",
        "import numpy as np\n",
        "import pandas as pd\n",
        "import seaborn as sns\n",
        "import matplotlib.pyplot as plt\n",
        "from scipy.stats import skew, kurtosis\n",
        "\n",
        "# Generate a sample dataset\n",
        "np.random.seed(0)\n",
        "data = np.random.beta(a=2, b=5, size=1000)  # Beta distribution (skewed)\n",
        "\n",
        "# Calculate skewness and kurtosis\n",
        "data_skewness = skew(data)\n",
        "data_kurtosis = kurtosis(data)\n",
        "\n",
        "# Create DataFrame for visualization\n",
        "df = pd.DataFrame(data, columns=['Feature'])\n",
        "\n",
        "# Set up the plotting area\n",
        "fig, axes = plt.subplots(1, 2, figsize=(15, 6))\n",
        "\n",
        "# Plot histogram\n",
        "sns.histplot(df['Feature'], kde=True, ax=axes[0], color='skyblue')\n",
        "axes[0].set_title(f\"Histogram (Skewness: {data_skewness:.2f}, Kurtosis: {data_kurtosis:.2f})\")\n",
        "\n",
        "# Plot boxplot\n",
        "sns.boxplot(x=df['Feature'], ax=axes[1], color='lightcoral')\n",
        "axes[1].set_title(\"Boxplot\")\n",
        "\n",
        "plt.tight_layout()\n",
        "plt.show()\n"
      ],
      "metadata": {
        "colab": {
          "base_uri": "https://localhost:8080/",
          "height": 607
        },
        "id": "2FO-fvedDJlJ",
        "outputId": "4346d222-e451-4bc4-cbf7-69eecfe9f013"
      },
      "execution_count": null,
      "outputs": [
        {
          "output_type": "display_data",
          "data": {
            "text/plain": [
              "<Figure size 1500x600 with 2 Axes>"
            ],
            "image/png": "[encoded data removed]"
          },
          "metadata": {}
        }
      ]
    },
    {
      "cell_type": "code",
      "source": [
        "#24- Implement the Pearson and Spearman correlation coefficients for a dataset.\n",
        "import pandas as pd\n",
        "import numpy as np\n",
        "from scipy.stats import spearmanr\n",
        "\n",
        "# Sample dataset\n",
        "data = {\n",
        "    'Age': [25, 30, 35, 40, 28],\n",
        "    'Salary': [50000, 60000, 75000, 80000, 58000],\n",
        "    'Years_of_Experience': [1, 5, 10, 15, 3]\n",
        "}\n",
        "\n",
        "# Create DataFrame\n",
        "df = pd.DataFrame(data)\n",
        "\n",
        "# Pearson Correlation using pandas\n",
        "pearson_corr = df.corr(method='pearson')\n",
        "\n",
        "# Spearman Correlation using scipy\n",
        "spearman_corr, _ = spearmanr(df)\n",
        "\n",
        "# Display results\n",
        "print(\"Pearson Correlation Matrix:\\n\", pearson_corr)\n",
        "print(\"\\nSpearman Correlation Matrix:\\n\", spearman_corr)\n"
      ],
      "metadata": {
        "colab": {
          "base_uri": "https://localhost:8080/"
        },
        "id": "4BFaDBMBDlYG",
        "outputId": "75b0dc88-ed12-4870-c6ac-0279692bb7dc"
      },
      "execution_count": null,
      "outputs": [
        {
          "output_type": "stream",
          "name": "stdout",
          "text": [
            "Pearson Correlation Matrix:\n",
            "                           Age    Salary  Years_of_Experience\n",
            "Age                  1.000000  0.985029             0.998090\n",
            "Salary               0.985029  1.000000             0.979823\n",
            "Years_of_Experience  0.998090  0.979823             1.000000\n",
            "\n",
            "Spearman Correlation Matrix:\n",
            " [[1. 1. 1.]\n",
            " [1. 1. 1.]\n",
            " [1. 1. 1.]]\n"
          ]
        }
      ]
    },
    {
      "cell_type": "code",
      "source": [],
      "metadata": {
        "id": "ys2Cd4kVDvx2"
      },
      "execution_count": null,
      "outputs": []
    }
  ]
}